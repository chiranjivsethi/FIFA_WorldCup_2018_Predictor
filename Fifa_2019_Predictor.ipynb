{
 "cells": [
  {
   "cell_type": "code",
   "execution_count": 5,
   "metadata": {},
   "outputs": [],
   "source": [
    "#Dependencies\n",
    "import pandas as pd\n",
    "import matplotlib.pyplot as plt\n",
    "import numpy as np\n",
    "import seaborn as sns\n",
    "from scipy.stats import poisson,skellam\n",
    "\n",
    "#Model\n",
    "from sklearn.linear_model import LinearRegression, LogisticRegression\n",
    "from sklearn.neural_network import MLPClassifier\n",
    "from sklearn import tree"
   ]
  },
  {
   "cell_type": "code",
   "execution_count": 6,
   "metadata": {},
   "outputs": [
    {
     "name": "stderr",
     "output_type": "stream",
     "text": [
      "/home/chiranjiv/anaconda3/envs/MLandSA/lib/python3.7/site-packages/IPython/core/interactiveshell.py:3049: DtypeWarning: Columns (23,35) have mixed types. Specify dtype option on import or set low_memory=False.\n",
      "  interactivity=interactivity, compiler=compiler, result=result)\n"
     ]
    }
   ],
   "source": [
    "from league_team_names import epl_team_dict, bundesliga_team_dict, laliga_team_dict, seriea_teams_dict\n",
    "country_group_dict = pd.read_csv('Data_Sets/worldcup_country_groups.csv', ).to_dict\n",
    "players_df = pd.read_csv('Data_Sets/fifa-18-demo-player-dataset/CompleteDataset.csv')\n",
    "epl2018 = pd.read_csv('Data_Sets/leagues/epl2018.csv')\n",
    "bundesliga2018 = pd.read_csv('Data_Sets/leagues/bundesliga2018.csv')\n",
    "seriea2018 = pd.read_csv('Data_Sets/leagues/seriea2018.csv')\n",
    "laliga2018 = pd.read_csv('Data_Sets/leagues/laliga2018.csv')"
   ]
  },
  {
   "cell_type": "code",
   "execution_count": null,
   "metadata": {},
   "outputs": [],
   "source": []
  }
 ],
 "metadata": {
  "kernelspec": {
   "display_name": "Python 3",
   "language": "python",
   "name": "python3"
  },
  "language_info": {
   "codemirror_mode": {
    "name": "ipython",
    "version": 3
   },
   "file_extension": ".py",
   "mimetype": "text/x-python",
   "name": "python",
   "nbconvert_exporter": "python",
   "pygments_lexer": "ipython3",
   "version": "3.7.0"
  }
 },
 "nbformat": 4,
 "nbformat_minor": 2
}
